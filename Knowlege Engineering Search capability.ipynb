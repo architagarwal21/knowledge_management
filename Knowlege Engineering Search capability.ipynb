{
 "cells": [
  {
   "cell_type": "code",
   "execution_count": 1,
   "id": "f51313f1",
   "metadata": {},
   "outputs": [],
   "source": [
    "# !pip3 install chromedriver_binary"
   ]
  },
  {
   "cell_type": "code",
   "execution_count": 55,
   "id": "16da8819",
   "metadata": {},
   "outputs": [],
   "source": [
    "import requests\n",
    "from bs4 import BeautifulSoup as bs\n",
    "import requests\n",
    "import re\n",
    "import time\n",
    "import random\n",
    "import sys\n",
    "import numpy as np\n",
    "import pandas as pd\n",
    "import time\n",
    "from selenium import webdriver\n",
    "pd.set_option('display.max_rows', 500)\n",
    "pd.set_option('display.max_columns', 500)\n",
    "pd.set_option('display.width', 3000)"
   ]
  },
  {
   "cell_type": "markdown",
   "id": "ee05a088",
   "metadata": {},
   "source": [
    "**Fragrantica Web Scraper**"
   ]
  },
  {
   "cell_type": "code",
   "execution_count": 56,
   "id": "39b7b5ef",
   "metadata": {},
   "outputs": [],
   "source": [
    "parent_link = \"https://www.fragrantica.com\""
   ]
  },
  {
   "cell_type": "markdown",
   "id": "fc63a24f",
   "metadata": {},
   "source": [
    "**Perfume Ratings**"
   ]
  },
  {
   "cell_type": "code",
   "execution_count": 97,
   "id": "2d2b1953",
   "metadata": {},
   "outputs": [],
   "source": [
    "def find_hrefs(url):\n",
    "    new_soup = get_soup(url)\n",
    "    hrefs = [a for a in new_soup.find_all('a', href=True)]\n",
    "    hrefs = hrefs[44+14:]\n",
    "    list1 =  []\n",
    "    for i in hrefs: \n",
    "        list1.append(((i.text.strip()), parent_link + i['href']))\n",
    "    all_frag_links = pd.DataFrame(list1)\n",
    "    all_frag_links1 = all_frag_links.drop([50,51,52,68], axis=0)[:155]\n",
    "    all_frag_links1.columns = ['Perfume', 'site']\n",
    "    brand_perfumes = all_frag_links1['site'][:50].tolist()\n",
    "    return (brand_perfumes, hrefs[0])"
   ]
  },
  {
   "cell_type": "code",
   "execution_count": 62,
   "id": "9c7d834e",
   "metadata": {},
   "outputs": [],
   "source": [
    "def find_perfume_rating(soup_page):\n",
    "    try:\n",
    "        return(soup_page.find(\"span\", itemprop=\"ratingValue\").text)\n",
    "    except:\n",
    "        return None"
   ]
  },
  {
   "cell_type": "code",
   "execution_count": 63,
   "id": "e8af2ded",
   "metadata": {},
   "outputs": [],
   "source": [
    "def find_total_rating(soup_page):\n",
    "    try:\n",
    "        return(soup_page.find(\"span\", itemprop=\"bestRating\").text)\n",
    "    except:\n",
    "        return None"
   ]
  },
  {
   "cell_type": "code",
   "execution_count": 118,
   "id": "86d7d469",
   "metadata": {},
   "outputs": [],
   "source": [
    "def find_perfume_rating_count(soup_page):\n",
    "    try:\n",
    "        return(soup_page.find(\"span\", itemprop=\"ratingCount\").text)\n",
    "    except:\n",
    "        return None"
   ]
  },
  {
   "cell_type": "code",
   "execution_count": 65,
   "id": "e269dff8",
   "metadata": {},
   "outputs": [],
   "source": [
    "def find_brand(soup_page):\n",
    "    try:\n",
    "        return(soup_page.find(\"p\", itemprop=\"brand\").text)\n",
    "    except:\n",
    "        return None"
   ]
  },
  {
   "cell_type": "code",
   "execution_count": 66,
   "id": "cd558e55",
   "metadata": {},
   "outputs": [],
   "source": [
    "def find_perfume_accords(soup_page):\n",
    "    try:\n",
    "        return([i.text for i in soup_page.find_all('div', class_=\"accord-bar\")])\n",
    "    except:\n",
    "        return None"
   ]
  },
  {
   "cell_type": "code",
   "execution_count": 67,
   "id": "d8778e88",
   "metadata": {},
   "outputs": [],
   "source": [
    "def find_perfume_extended_name(soup_page):\n",
    "    try:\n",
    "        return(soup_page.find_all(\"div\", class_=\"cell small-12\")[0].text)\n",
    "    except:\n",
    "        return None"
   ]
  },
  {
   "cell_type": "code",
   "execution_count": 68,
   "id": "2c375744",
   "metadata": {},
   "outputs": [],
   "source": [
    "def find_perfume_desc(soup_page):\n",
    "    try:\n",
    "        return(soup_page.find_all(\"div\", class_=\"cell small-12\")[3].text)\n",
    "    except:\n",
    "        return None"
   ]
  },
  {
   "cell_type": "code",
   "execution_count": 69,
   "id": "a6a02a01",
   "metadata": {},
   "outputs": [],
   "source": [
    "def find_perfume_notes(soup_page):\n",
    "    try:\n",
    "        return(soup_page.find_all(\"div\", class_=\"cell small-12\")[4].text)\n",
    "    except:\n",
    "        return None"
   ]
  },
  {
   "cell_type": "code",
   "execution_count": 70,
   "id": "c03d408d",
   "metadata": {},
   "outputs": [],
   "source": [
    "def find_all_reviews(soup_page):\n",
    "    all_reviews = []\n",
    "    try:\n",
    "        all_divs = soup_page.find_all(\"div\", itemprop=\"review\")\n",
    "        for i in all_divs:\n",
    "            all_reviews.append(i.text.strip())\n",
    "        return(all_reviews)\n",
    "    except:\n",
    "        return None"
   ]
  },
  {
   "cell_type": "code",
   "execution_count": 71,
   "id": "a31c666e",
   "metadata": {},
   "outputs": [],
   "source": [
    "def create_perfume_data(url):\n",
    "    page1 = get_soup(url)\n",
    "    perfume_rating = find_perfume_rating(page1)\n",
    "    total_rating = find_total_rating(page1)\n",
    "    perfume_rating_count = find_perfume_rating_count(page1)\n",
    "    brand = find_brand(page1)\n",
    "    perfume_accords = find_perfume_accords(page1)\n",
    "    perfume_extended_name = find_perfume_extended_name(page1)\n",
    "    perfume_description = find_perfume_desc(page1)\n",
    "    perfume_notes = find_perfume_notes(page1)\n",
    "    print(str(perfume_extended_name) +  \" Completed\")\n",
    "    ## -----\n",
    "    all_reviews= find_all_reviews(page1)\n",
    "    return((perfume_rating,total_rating,perfume_rating_count,brand,perfume_accords, perfume_extended_name,\n",
    "           perfume_description, perfume_notes, all_reviews))"
   ]
  },
  {
   "cell_type": "markdown",
   "id": "13fd4c4f",
   "metadata": {},
   "source": [
    "Clinique Data Mining"
   ]
  },
  {
   "cell_type": "code",
   "execution_count": 72,
   "id": "5d6b6830",
   "metadata": {},
   "outputs": [],
   "source": [
    "url = 'https://www.fragrantica.com/designers/Clinique.html'\n",
    "\n",
    "def get_soup(url1):\n",
    "    temp_url = url1\n",
    "    # Perform the GET request to fetch the content of the URL\n",
    "    response = requests.get(temp_url)\n",
    "    agent = {\"User-Agent\":'Mozilla/5.0 (Windows NT 6.3; WOW64) AppleWebKit/537.36 (KHTML, like Gecko) Chrome/59.0.3071.115 Safari/537.36'}\n",
    "    # page = requests.get(url, headers=agent)\n",
    "    user_agent = {'User-agent': 'Mozilla/5.0'}\n",
    "    response  = requests.get(temp_url, headers = agent)\n",
    "    soup = bs(response.content, 'html')\n",
    "    return(soup)\n",
    "\n",
    "clinique_soup = get_soup(url)"
   ]
  },
  {
   "cell_type": "code",
   "execution_count": 73,
   "id": "6884f655",
   "metadata": {},
   "outputs": [],
   "source": [
    "all_perfumes = clinique_soup.find_all('div', class_=\"flex-child-auto\")\n",
    "hrefs = [a for a in clinique_soup.find_all('a', href=True)]\n",
    "hrefs = hrefs[44:]\n",
    "### Mine all the relevant links\n",
    "list1 =  []\n",
    "for i in hrefs: \n",
    "    list1.append(((i.text.strip()), parent_link + i['href']))\n",
    "all_frag_links = pd.DataFrame(list1)\n",
    "all_frag_links1 = all_frag_links.drop([50,51,52,68], axis=0)[:155]\n",
    "all_frag_links1.columns = ['Perfume', 'site']\n",
    "clinique_perfumes = all_frag_links1['site'][:50].tolist()"
   ]
  },
  {
   "cell_type": "code",
   "execution_count": 74,
   "id": "50d4db1f",
   "metadata": {
    "scrolled": true
   },
   "outputs": [
    {
     "name": "stdout",
     "output_type": "stream",
     "text": [
      "Beyond Rose Clinique for women Completed\n",
      "Calyx Clinique for women Completed\n",
      "Chemistry Clinique for men Completed\n",
      "Clinique Wrappings Clinique for women Completed\n",
      "Simply Clinique Clinique for women Completed\n",
      "Aromatics Black Cherry Clinique for women Completed\n",
      "Aromatics Elixir Clinique for women Completed\n",
      "Aromatics Elixir Fête des Mères Edition Limitée Clinique for women Completed\n",
      "Aromatics Elixir Perfumer's Reserve Clinique for women Completed\n",
      "Aromatics Elixir Premier Clinique for women Completed\n",
      "None Completed\n",
      "Aromatics in Black Clinique for women Completed\n",
      "Aromatics in White Clinique for women Completed\n",
      "Clinique Happy Clinique for women Completed\n",
      "Clinique Happy Clinique for men Completed\n",
      "Clinique Happy by Donald Robertson Clinique for women Completed\n",
      "Clinique Happy Glimmering Clinique for women Completed\n",
      "Clinique Happy Heart 2003 Clinique for women Completed\n",
      "Clinique Happy Heart 2012 Clinique for women Completed\n",
      "Clinique Happy Holiday Clinique for women Completed\n",
      "Clinique Happy In Bloom 2006 Clinique for women Completed\n",
      "None Completed\n",
      "Clinique Happy In Bloom 2010 Clinique for women Completed\n",
      "Clinique Happy In Bloom 2011 Clinique for women Completed\n",
      "Clinique Happy In Bloom 2012 Clinique for women Completed\n",
      "Clinique Happy In Bloom 2013 Clinique for women Completed\n",
      "Clinique Happy In Bloom 2014 Clinique for women Completed\n",
      "Clinique Happy In Bloom 2015 Clinique for women Completed\n",
      "Clinique Happy In Bloom 2016 Clinique for women Completed\n",
      "Clinique Happy Limited Edition 2022 Clinique for women Completed\n",
      "Clinique Happy Limited Edition 2022 Clinique for women Completed\n",
      "Clinique Happy Smile Click Clinique for women Completed\n",
      "None Completed\n",
      "Clinique Happy Summer Spray 2010 Clinique for women Completed\n",
      "Clinique Happy Summer Spray 2012 Clinique for women Completed\n",
      "Clinique Happy Summer Spray 2013 Clinique for women Completed\n",
      "Clinique Happy Summer Spray 2015 Clinique for women Completed\n",
      "Clinique Happy To Be Clinique for women Completed\n",
      "Clinique Happy: You Make Me Happy Because Clinique for women Completed\n",
      "Happy A Hint of Citrus Clinique for women Completed\n",
      "Happy In Bloom 2017 Clinique for women Completed\n",
      "Baby Bouquet Clinique for women Completed\n",
      "Blue Sky Neroli Clinique for women and men Completed\n",
      "None Completed\n"
     ]
    },
    {
     "ename": "ConnectionError",
     "evalue": "('Connection aborted.', RemoteDisconnected('Remote end closed connection without response'))",
     "output_type": "error",
     "traceback": [
      "\u001b[0;31m---------------------------------------------------------------------------\u001b[0m",
      "\u001b[0;31mRemoteDisconnected\u001b[0m                        Traceback (most recent call last)",
      "File \u001b[0;32m/Library/Frameworks/Python.framework/Versions/3.10/lib/python3.10/site-packages/urllib3/connectionpool.py:790\u001b[0m, in \u001b[0;36mHTTPConnectionPool.urlopen\u001b[0;34m(self, method, url, body, headers, retries, redirect, assert_same_host, timeout, pool_timeout, release_conn, chunked, body_pos, preload_content, decode_content, **response_kw)\u001b[0m\n\u001b[1;32m    789\u001b[0m \u001b[38;5;66;03m# Make the request on the HTTPConnection object\u001b[39;00m\n\u001b[0;32m--> 790\u001b[0m response \u001b[38;5;241m=\u001b[39m \u001b[38;5;28;43mself\u001b[39;49m\u001b[38;5;241;43m.\u001b[39;49m\u001b[43m_make_request\u001b[49m\u001b[43m(\u001b[49m\n\u001b[1;32m    791\u001b[0m \u001b[43m    \u001b[49m\u001b[43mconn\u001b[49m\u001b[43m,\u001b[49m\n\u001b[1;32m    792\u001b[0m \u001b[43m    \u001b[49m\u001b[43mmethod\u001b[49m\u001b[43m,\u001b[49m\n\u001b[1;32m    793\u001b[0m \u001b[43m    \u001b[49m\u001b[43murl\u001b[49m\u001b[43m,\u001b[49m\n\u001b[1;32m    794\u001b[0m \u001b[43m    \u001b[49m\u001b[43mtimeout\u001b[49m\u001b[38;5;241;43m=\u001b[39;49m\u001b[43mtimeout_obj\u001b[49m\u001b[43m,\u001b[49m\n\u001b[1;32m    795\u001b[0m \u001b[43m    \u001b[49m\u001b[43mbody\u001b[49m\u001b[38;5;241;43m=\u001b[39;49m\u001b[43mbody\u001b[49m\u001b[43m,\u001b[49m\n\u001b[1;32m    796\u001b[0m \u001b[43m    \u001b[49m\u001b[43mheaders\u001b[49m\u001b[38;5;241;43m=\u001b[39;49m\u001b[43mheaders\u001b[49m\u001b[43m,\u001b[49m\n\u001b[1;32m    797\u001b[0m \u001b[43m    \u001b[49m\u001b[43mchunked\u001b[49m\u001b[38;5;241;43m=\u001b[39;49m\u001b[43mchunked\u001b[49m\u001b[43m,\u001b[49m\n\u001b[1;32m    798\u001b[0m \u001b[43m    \u001b[49m\u001b[43mretries\u001b[49m\u001b[38;5;241;43m=\u001b[39;49m\u001b[43mretries\u001b[49m\u001b[43m,\u001b[49m\n\u001b[1;32m    799\u001b[0m \u001b[43m    \u001b[49m\u001b[43mresponse_conn\u001b[49m\u001b[38;5;241;43m=\u001b[39;49m\u001b[43mresponse_conn\u001b[49m\u001b[43m,\u001b[49m\n\u001b[1;32m    800\u001b[0m \u001b[43m    \u001b[49m\u001b[43mpreload_content\u001b[49m\u001b[38;5;241;43m=\u001b[39;49m\u001b[43mpreload_content\u001b[49m\u001b[43m,\u001b[49m\n\u001b[1;32m    801\u001b[0m \u001b[43m    \u001b[49m\u001b[43mdecode_content\u001b[49m\u001b[38;5;241;43m=\u001b[39;49m\u001b[43mdecode_content\u001b[49m\u001b[43m,\u001b[49m\n\u001b[1;32m    802\u001b[0m \u001b[43m    \u001b[49m\u001b[38;5;241;43m*\u001b[39;49m\u001b[38;5;241;43m*\u001b[39;49m\u001b[43mresponse_kw\u001b[49m\u001b[43m,\u001b[49m\n\u001b[1;32m    803\u001b[0m \u001b[43m\u001b[49m\u001b[43m)\u001b[49m\n\u001b[1;32m    805\u001b[0m \u001b[38;5;66;03m# Everything went great!\u001b[39;00m\n",
      "File \u001b[0;32m/Library/Frameworks/Python.framework/Versions/3.10/lib/python3.10/site-packages/urllib3/connectionpool.py:536\u001b[0m, in \u001b[0;36mHTTPConnectionPool._make_request\u001b[0;34m(self, conn, method, url, body, headers, retries, timeout, chunked, response_conn, preload_content, decode_content, enforce_content_length)\u001b[0m\n\u001b[1;32m    535\u001b[0m \u001b[38;5;28;01mtry\u001b[39;00m:\n\u001b[0;32m--> 536\u001b[0m     response \u001b[38;5;241m=\u001b[39m \u001b[43mconn\u001b[49m\u001b[38;5;241;43m.\u001b[39;49m\u001b[43mgetresponse\u001b[49m\u001b[43m(\u001b[49m\u001b[43m)\u001b[49m\n\u001b[1;32m    537\u001b[0m \u001b[38;5;28;01mexcept\u001b[39;00m (BaseSSLError, \u001b[38;5;167;01mOSError\u001b[39;00m) \u001b[38;5;28;01mas\u001b[39;00m e:\n",
      "File \u001b[0;32m/Library/Frameworks/Python.framework/Versions/3.10/lib/python3.10/site-packages/urllib3/connection.py:454\u001b[0m, in \u001b[0;36mHTTPConnection.getresponse\u001b[0;34m(self)\u001b[0m\n\u001b[1;32m    453\u001b[0m \u001b[38;5;66;03m# Get the response from http.client.HTTPConnection\u001b[39;00m\n\u001b[0;32m--> 454\u001b[0m httplib_response \u001b[38;5;241m=\u001b[39m \u001b[38;5;28;43msuper\u001b[39;49m\u001b[43m(\u001b[49m\u001b[43m)\u001b[49m\u001b[38;5;241;43m.\u001b[39;49m\u001b[43mgetresponse\u001b[49m\u001b[43m(\u001b[49m\u001b[43m)\u001b[49m\n\u001b[1;32m    456\u001b[0m \u001b[38;5;28;01mtry\u001b[39;00m:\n",
      "File \u001b[0;32m/Library/Frameworks/Python.framework/Versions/3.10/lib/python3.10/http/client.py:1375\u001b[0m, in \u001b[0;36mHTTPConnection.getresponse\u001b[0;34m(self)\u001b[0m\n\u001b[1;32m   1374\u001b[0m \u001b[38;5;28;01mtry\u001b[39;00m:\n\u001b[0;32m-> 1375\u001b[0m     \u001b[43mresponse\u001b[49m\u001b[38;5;241;43m.\u001b[39;49m\u001b[43mbegin\u001b[49m\u001b[43m(\u001b[49m\u001b[43m)\u001b[49m\n\u001b[1;32m   1376\u001b[0m \u001b[38;5;28;01mexcept\u001b[39;00m \u001b[38;5;167;01mConnectionError\u001b[39;00m:\n",
      "File \u001b[0;32m/Library/Frameworks/Python.framework/Versions/3.10/lib/python3.10/http/client.py:318\u001b[0m, in \u001b[0;36mHTTPResponse.begin\u001b[0;34m(self)\u001b[0m\n\u001b[1;32m    317\u001b[0m \u001b[38;5;28;01mwhile\u001b[39;00m \u001b[38;5;28;01mTrue\u001b[39;00m:\n\u001b[0;32m--> 318\u001b[0m     version, status, reason \u001b[38;5;241m=\u001b[39m \u001b[38;5;28;43mself\u001b[39;49m\u001b[38;5;241;43m.\u001b[39;49m\u001b[43m_read_status\u001b[49m\u001b[43m(\u001b[49m\u001b[43m)\u001b[49m\n\u001b[1;32m    319\u001b[0m     \u001b[38;5;28;01mif\u001b[39;00m status \u001b[38;5;241m!=\u001b[39m CONTINUE:\n",
      "File \u001b[0;32m/Library/Frameworks/Python.framework/Versions/3.10/lib/python3.10/http/client.py:287\u001b[0m, in \u001b[0;36mHTTPResponse._read_status\u001b[0;34m(self)\u001b[0m\n\u001b[1;32m    284\u001b[0m \u001b[38;5;28;01mif\u001b[39;00m \u001b[38;5;129;01mnot\u001b[39;00m line:\n\u001b[1;32m    285\u001b[0m     \u001b[38;5;66;03m# Presumably, the server closed the connection before\u001b[39;00m\n\u001b[1;32m    286\u001b[0m     \u001b[38;5;66;03m# sending a valid response.\u001b[39;00m\n\u001b[0;32m--> 287\u001b[0m     \u001b[38;5;28;01mraise\u001b[39;00m RemoteDisconnected(\u001b[38;5;124m\"\u001b[39m\u001b[38;5;124mRemote end closed connection without\u001b[39m\u001b[38;5;124m\"\u001b[39m\n\u001b[1;32m    288\u001b[0m                              \u001b[38;5;124m\"\u001b[39m\u001b[38;5;124m response\u001b[39m\u001b[38;5;124m\"\u001b[39m)\n\u001b[1;32m    289\u001b[0m \u001b[38;5;28;01mtry\u001b[39;00m:\n",
      "\u001b[0;31mRemoteDisconnected\u001b[0m: Remote end closed connection without response",
      "\nDuring handling of the above exception, another exception occurred:\n",
      "\u001b[0;31mProtocolError\u001b[0m                             Traceback (most recent call last)",
      "File \u001b[0;32m/Library/Frameworks/Python.framework/Versions/3.10/lib/python3.10/site-packages/requests/adapters.py:486\u001b[0m, in \u001b[0;36mHTTPAdapter.send\u001b[0;34m(self, request, stream, timeout, verify, cert, proxies)\u001b[0m\n\u001b[1;32m    485\u001b[0m \u001b[38;5;28;01mtry\u001b[39;00m:\n\u001b[0;32m--> 486\u001b[0m     resp \u001b[38;5;241m=\u001b[39m \u001b[43mconn\u001b[49m\u001b[38;5;241;43m.\u001b[39;49m\u001b[43murlopen\u001b[49m\u001b[43m(\u001b[49m\n\u001b[1;32m    487\u001b[0m \u001b[43m        \u001b[49m\u001b[43mmethod\u001b[49m\u001b[38;5;241;43m=\u001b[39;49m\u001b[43mrequest\u001b[49m\u001b[38;5;241;43m.\u001b[39;49m\u001b[43mmethod\u001b[49m\u001b[43m,\u001b[49m\n\u001b[1;32m    488\u001b[0m \u001b[43m        \u001b[49m\u001b[43murl\u001b[49m\u001b[38;5;241;43m=\u001b[39;49m\u001b[43murl\u001b[49m\u001b[43m,\u001b[49m\n\u001b[1;32m    489\u001b[0m \u001b[43m        \u001b[49m\u001b[43mbody\u001b[49m\u001b[38;5;241;43m=\u001b[39;49m\u001b[43mrequest\u001b[49m\u001b[38;5;241;43m.\u001b[39;49m\u001b[43mbody\u001b[49m\u001b[43m,\u001b[49m\n\u001b[1;32m    490\u001b[0m \u001b[43m        \u001b[49m\u001b[43mheaders\u001b[49m\u001b[38;5;241;43m=\u001b[39;49m\u001b[43mrequest\u001b[49m\u001b[38;5;241;43m.\u001b[39;49m\u001b[43mheaders\u001b[49m\u001b[43m,\u001b[49m\n\u001b[1;32m    491\u001b[0m \u001b[43m        \u001b[49m\u001b[43mredirect\u001b[49m\u001b[38;5;241;43m=\u001b[39;49m\u001b[38;5;28;43;01mFalse\u001b[39;49;00m\u001b[43m,\u001b[49m\n\u001b[1;32m    492\u001b[0m \u001b[43m        \u001b[49m\u001b[43massert_same_host\u001b[49m\u001b[38;5;241;43m=\u001b[39;49m\u001b[38;5;28;43;01mFalse\u001b[39;49;00m\u001b[43m,\u001b[49m\n\u001b[1;32m    493\u001b[0m \u001b[43m        \u001b[49m\u001b[43mpreload_content\u001b[49m\u001b[38;5;241;43m=\u001b[39;49m\u001b[38;5;28;43;01mFalse\u001b[39;49;00m\u001b[43m,\u001b[49m\n\u001b[1;32m    494\u001b[0m \u001b[43m        \u001b[49m\u001b[43mdecode_content\u001b[49m\u001b[38;5;241;43m=\u001b[39;49m\u001b[38;5;28;43;01mFalse\u001b[39;49;00m\u001b[43m,\u001b[49m\n\u001b[1;32m    495\u001b[0m \u001b[43m        \u001b[49m\u001b[43mretries\u001b[49m\u001b[38;5;241;43m=\u001b[39;49m\u001b[38;5;28;43mself\u001b[39;49m\u001b[38;5;241;43m.\u001b[39;49m\u001b[43mmax_retries\u001b[49m\u001b[43m,\u001b[49m\n\u001b[1;32m    496\u001b[0m \u001b[43m        \u001b[49m\u001b[43mtimeout\u001b[49m\u001b[38;5;241;43m=\u001b[39;49m\u001b[43mtimeout\u001b[49m\u001b[43m,\u001b[49m\n\u001b[1;32m    497\u001b[0m \u001b[43m        \u001b[49m\u001b[43mchunked\u001b[49m\u001b[38;5;241;43m=\u001b[39;49m\u001b[43mchunked\u001b[49m\u001b[43m,\u001b[49m\n\u001b[1;32m    498\u001b[0m \u001b[43m    \u001b[49m\u001b[43m)\u001b[49m\n\u001b[1;32m    500\u001b[0m \u001b[38;5;28;01mexcept\u001b[39;00m (ProtocolError, \u001b[38;5;167;01mOSError\u001b[39;00m) \u001b[38;5;28;01mas\u001b[39;00m err:\n",
      "File \u001b[0;32m/Library/Frameworks/Python.framework/Versions/3.10/lib/python3.10/site-packages/urllib3/connectionpool.py:844\u001b[0m, in \u001b[0;36mHTTPConnectionPool.urlopen\u001b[0;34m(self, method, url, body, headers, retries, redirect, assert_same_host, timeout, pool_timeout, release_conn, chunked, body_pos, preload_content, decode_content, **response_kw)\u001b[0m\n\u001b[1;32m    842\u001b[0m     new_e \u001b[38;5;241m=\u001b[39m ProtocolError(\u001b[38;5;124m\"\u001b[39m\u001b[38;5;124mConnection aborted.\u001b[39m\u001b[38;5;124m\"\u001b[39m, new_e)\n\u001b[0;32m--> 844\u001b[0m retries \u001b[38;5;241m=\u001b[39m \u001b[43mretries\u001b[49m\u001b[38;5;241;43m.\u001b[39;49m\u001b[43mincrement\u001b[49m\u001b[43m(\u001b[49m\n\u001b[1;32m    845\u001b[0m \u001b[43m    \u001b[49m\u001b[43mmethod\u001b[49m\u001b[43m,\u001b[49m\u001b[43m \u001b[49m\u001b[43murl\u001b[49m\u001b[43m,\u001b[49m\u001b[43m \u001b[49m\u001b[43merror\u001b[49m\u001b[38;5;241;43m=\u001b[39;49m\u001b[43mnew_e\u001b[49m\u001b[43m,\u001b[49m\u001b[43m \u001b[49m\u001b[43m_pool\u001b[49m\u001b[38;5;241;43m=\u001b[39;49m\u001b[38;5;28;43mself\u001b[39;49m\u001b[43m,\u001b[49m\u001b[43m \u001b[49m\u001b[43m_stacktrace\u001b[49m\u001b[38;5;241;43m=\u001b[39;49m\u001b[43msys\u001b[49m\u001b[38;5;241;43m.\u001b[39;49m\u001b[43mexc_info\u001b[49m\u001b[43m(\u001b[49m\u001b[43m)\u001b[49m\u001b[43m[\u001b[49m\u001b[38;5;241;43m2\u001b[39;49m\u001b[43m]\u001b[49m\n\u001b[1;32m    846\u001b[0m \u001b[43m\u001b[49m\u001b[43m)\u001b[49m\n\u001b[1;32m    847\u001b[0m retries\u001b[38;5;241m.\u001b[39msleep()\n",
      "File \u001b[0;32m/Library/Frameworks/Python.framework/Versions/3.10/lib/python3.10/site-packages/urllib3/util/retry.py:470\u001b[0m, in \u001b[0;36mRetry.increment\u001b[0;34m(self, method, url, response, error, _pool, _stacktrace)\u001b[0m\n\u001b[1;32m    469\u001b[0m \u001b[38;5;28;01mif\u001b[39;00m read \u001b[38;5;129;01mis\u001b[39;00m \u001b[38;5;28;01mFalse\u001b[39;00m \u001b[38;5;129;01mor\u001b[39;00m method \u001b[38;5;129;01mis\u001b[39;00m \u001b[38;5;28;01mNone\u001b[39;00m \u001b[38;5;129;01mor\u001b[39;00m \u001b[38;5;129;01mnot\u001b[39;00m \u001b[38;5;28mself\u001b[39m\u001b[38;5;241m.\u001b[39m_is_method_retryable(method):\n\u001b[0;32m--> 470\u001b[0m     \u001b[38;5;28;01mraise\u001b[39;00m \u001b[43mreraise\u001b[49m\u001b[43m(\u001b[49m\u001b[38;5;28;43mtype\u001b[39;49m\u001b[43m(\u001b[49m\u001b[43merror\u001b[49m\u001b[43m)\u001b[49m\u001b[43m,\u001b[49m\u001b[43m \u001b[49m\u001b[43merror\u001b[49m\u001b[43m,\u001b[49m\u001b[43m \u001b[49m\u001b[43m_stacktrace\u001b[49m\u001b[43m)\u001b[49m\n\u001b[1;32m    471\u001b[0m \u001b[38;5;28;01melif\u001b[39;00m read \u001b[38;5;129;01mis\u001b[39;00m \u001b[38;5;129;01mnot\u001b[39;00m \u001b[38;5;28;01mNone\u001b[39;00m:\n",
      "File \u001b[0;32m/Library/Frameworks/Python.framework/Versions/3.10/lib/python3.10/site-packages/urllib3/util/util.py:38\u001b[0m, in \u001b[0;36mreraise\u001b[0;34m(tp, value, tb)\u001b[0m\n\u001b[1;32m     37\u001b[0m \u001b[38;5;28;01mif\u001b[39;00m value\u001b[38;5;241m.\u001b[39m__traceback__ \u001b[38;5;129;01mis\u001b[39;00m \u001b[38;5;129;01mnot\u001b[39;00m tb:\n\u001b[0;32m---> 38\u001b[0m     \u001b[38;5;28;01mraise\u001b[39;00m value\u001b[38;5;241m.\u001b[39mwith_traceback(tb)\n\u001b[1;32m     39\u001b[0m \u001b[38;5;28;01mraise\u001b[39;00m value\n",
      "File \u001b[0;32m/Library/Frameworks/Python.framework/Versions/3.10/lib/python3.10/site-packages/urllib3/connectionpool.py:790\u001b[0m, in \u001b[0;36mHTTPConnectionPool.urlopen\u001b[0;34m(self, method, url, body, headers, retries, redirect, assert_same_host, timeout, pool_timeout, release_conn, chunked, body_pos, preload_content, decode_content, **response_kw)\u001b[0m\n\u001b[1;32m    789\u001b[0m \u001b[38;5;66;03m# Make the request on the HTTPConnection object\u001b[39;00m\n\u001b[0;32m--> 790\u001b[0m response \u001b[38;5;241m=\u001b[39m \u001b[38;5;28;43mself\u001b[39;49m\u001b[38;5;241;43m.\u001b[39;49m\u001b[43m_make_request\u001b[49m\u001b[43m(\u001b[49m\n\u001b[1;32m    791\u001b[0m \u001b[43m    \u001b[49m\u001b[43mconn\u001b[49m\u001b[43m,\u001b[49m\n\u001b[1;32m    792\u001b[0m \u001b[43m    \u001b[49m\u001b[43mmethod\u001b[49m\u001b[43m,\u001b[49m\n\u001b[1;32m    793\u001b[0m \u001b[43m    \u001b[49m\u001b[43murl\u001b[49m\u001b[43m,\u001b[49m\n\u001b[1;32m    794\u001b[0m \u001b[43m    \u001b[49m\u001b[43mtimeout\u001b[49m\u001b[38;5;241;43m=\u001b[39;49m\u001b[43mtimeout_obj\u001b[49m\u001b[43m,\u001b[49m\n\u001b[1;32m    795\u001b[0m \u001b[43m    \u001b[49m\u001b[43mbody\u001b[49m\u001b[38;5;241;43m=\u001b[39;49m\u001b[43mbody\u001b[49m\u001b[43m,\u001b[49m\n\u001b[1;32m    796\u001b[0m \u001b[43m    \u001b[49m\u001b[43mheaders\u001b[49m\u001b[38;5;241;43m=\u001b[39;49m\u001b[43mheaders\u001b[49m\u001b[43m,\u001b[49m\n\u001b[1;32m    797\u001b[0m \u001b[43m    \u001b[49m\u001b[43mchunked\u001b[49m\u001b[38;5;241;43m=\u001b[39;49m\u001b[43mchunked\u001b[49m\u001b[43m,\u001b[49m\n\u001b[1;32m    798\u001b[0m \u001b[43m    \u001b[49m\u001b[43mretries\u001b[49m\u001b[38;5;241;43m=\u001b[39;49m\u001b[43mretries\u001b[49m\u001b[43m,\u001b[49m\n\u001b[1;32m    799\u001b[0m \u001b[43m    \u001b[49m\u001b[43mresponse_conn\u001b[49m\u001b[38;5;241;43m=\u001b[39;49m\u001b[43mresponse_conn\u001b[49m\u001b[43m,\u001b[49m\n\u001b[1;32m    800\u001b[0m \u001b[43m    \u001b[49m\u001b[43mpreload_content\u001b[49m\u001b[38;5;241;43m=\u001b[39;49m\u001b[43mpreload_content\u001b[49m\u001b[43m,\u001b[49m\n\u001b[1;32m    801\u001b[0m \u001b[43m    \u001b[49m\u001b[43mdecode_content\u001b[49m\u001b[38;5;241;43m=\u001b[39;49m\u001b[43mdecode_content\u001b[49m\u001b[43m,\u001b[49m\n\u001b[1;32m    802\u001b[0m \u001b[43m    \u001b[49m\u001b[38;5;241;43m*\u001b[39;49m\u001b[38;5;241;43m*\u001b[39;49m\u001b[43mresponse_kw\u001b[49m\u001b[43m,\u001b[49m\n\u001b[1;32m    803\u001b[0m \u001b[43m\u001b[49m\u001b[43m)\u001b[49m\n\u001b[1;32m    805\u001b[0m \u001b[38;5;66;03m# Everything went great!\u001b[39;00m\n",
      "File \u001b[0;32m/Library/Frameworks/Python.framework/Versions/3.10/lib/python3.10/site-packages/urllib3/connectionpool.py:536\u001b[0m, in \u001b[0;36mHTTPConnectionPool._make_request\u001b[0;34m(self, conn, method, url, body, headers, retries, timeout, chunked, response_conn, preload_content, decode_content, enforce_content_length)\u001b[0m\n\u001b[1;32m    535\u001b[0m \u001b[38;5;28;01mtry\u001b[39;00m:\n\u001b[0;32m--> 536\u001b[0m     response \u001b[38;5;241m=\u001b[39m \u001b[43mconn\u001b[49m\u001b[38;5;241;43m.\u001b[39;49m\u001b[43mgetresponse\u001b[49m\u001b[43m(\u001b[49m\u001b[43m)\u001b[49m\n\u001b[1;32m    537\u001b[0m \u001b[38;5;28;01mexcept\u001b[39;00m (BaseSSLError, \u001b[38;5;167;01mOSError\u001b[39;00m) \u001b[38;5;28;01mas\u001b[39;00m e:\n",
      "File \u001b[0;32m/Library/Frameworks/Python.framework/Versions/3.10/lib/python3.10/site-packages/urllib3/connection.py:454\u001b[0m, in \u001b[0;36mHTTPConnection.getresponse\u001b[0;34m(self)\u001b[0m\n\u001b[1;32m    453\u001b[0m \u001b[38;5;66;03m# Get the response from http.client.HTTPConnection\u001b[39;00m\n\u001b[0;32m--> 454\u001b[0m httplib_response \u001b[38;5;241m=\u001b[39m \u001b[38;5;28;43msuper\u001b[39;49m\u001b[43m(\u001b[49m\u001b[43m)\u001b[49m\u001b[38;5;241;43m.\u001b[39;49m\u001b[43mgetresponse\u001b[49m\u001b[43m(\u001b[49m\u001b[43m)\u001b[49m\n\u001b[1;32m    456\u001b[0m \u001b[38;5;28;01mtry\u001b[39;00m:\n",
      "File \u001b[0;32m/Library/Frameworks/Python.framework/Versions/3.10/lib/python3.10/http/client.py:1375\u001b[0m, in \u001b[0;36mHTTPConnection.getresponse\u001b[0;34m(self)\u001b[0m\n\u001b[1;32m   1374\u001b[0m \u001b[38;5;28;01mtry\u001b[39;00m:\n\u001b[0;32m-> 1375\u001b[0m     \u001b[43mresponse\u001b[49m\u001b[38;5;241;43m.\u001b[39;49m\u001b[43mbegin\u001b[49m\u001b[43m(\u001b[49m\u001b[43m)\u001b[49m\n\u001b[1;32m   1376\u001b[0m \u001b[38;5;28;01mexcept\u001b[39;00m \u001b[38;5;167;01mConnectionError\u001b[39;00m:\n",
      "File \u001b[0;32m/Library/Frameworks/Python.framework/Versions/3.10/lib/python3.10/http/client.py:318\u001b[0m, in \u001b[0;36mHTTPResponse.begin\u001b[0;34m(self)\u001b[0m\n\u001b[1;32m    317\u001b[0m \u001b[38;5;28;01mwhile\u001b[39;00m \u001b[38;5;28;01mTrue\u001b[39;00m:\n\u001b[0;32m--> 318\u001b[0m     version, status, reason \u001b[38;5;241m=\u001b[39m \u001b[38;5;28;43mself\u001b[39;49m\u001b[38;5;241;43m.\u001b[39;49m\u001b[43m_read_status\u001b[49m\u001b[43m(\u001b[49m\u001b[43m)\u001b[49m\n\u001b[1;32m    319\u001b[0m     \u001b[38;5;28;01mif\u001b[39;00m status \u001b[38;5;241m!=\u001b[39m CONTINUE:\n",
      "File \u001b[0;32m/Library/Frameworks/Python.framework/Versions/3.10/lib/python3.10/http/client.py:287\u001b[0m, in \u001b[0;36mHTTPResponse._read_status\u001b[0;34m(self)\u001b[0m\n\u001b[1;32m    284\u001b[0m \u001b[38;5;28;01mif\u001b[39;00m \u001b[38;5;129;01mnot\u001b[39;00m line:\n\u001b[1;32m    285\u001b[0m     \u001b[38;5;66;03m# Presumably, the server closed the connection before\u001b[39;00m\n\u001b[1;32m    286\u001b[0m     \u001b[38;5;66;03m# sending a valid response.\u001b[39;00m\n\u001b[0;32m--> 287\u001b[0m     \u001b[38;5;28;01mraise\u001b[39;00m RemoteDisconnected(\u001b[38;5;124m\"\u001b[39m\u001b[38;5;124mRemote end closed connection without\u001b[39m\u001b[38;5;124m\"\u001b[39m\n\u001b[1;32m    288\u001b[0m                              \u001b[38;5;124m\"\u001b[39m\u001b[38;5;124m response\u001b[39m\u001b[38;5;124m\"\u001b[39m)\n\u001b[1;32m    289\u001b[0m \u001b[38;5;28;01mtry\u001b[39;00m:\n",
      "\u001b[0;31mProtocolError\u001b[0m: ('Connection aborted.', RemoteDisconnected('Remote end closed connection without response'))",
      "\nDuring handling of the above exception, another exception occurred:\n",
      "\u001b[0;31mConnectionError\u001b[0m                           Traceback (most recent call last)",
      "Cell \u001b[0;32mIn[74], line 4\u001b[0m\n\u001b[1;32m      2\u001b[0m \u001b[38;5;28;01mfor\u001b[39;00m i \u001b[38;5;129;01min\u001b[39;00m clinique_perfumes:\n\u001b[1;32m      3\u001b[0m     time\u001b[38;5;241m.\u001b[39msleep(\u001b[38;5;241m5\u001b[39m) \u001b[38;5;66;03m# sleep for 5 seconds\u001b[39;00m\n\u001b[0;32m----> 4\u001b[0m     all_perfume_data\u001b[38;5;241m.\u001b[39mappend(\u001b[43mcreate_perfume_data\u001b[49m\u001b[43m(\u001b[49m\u001b[43mi\u001b[49m\u001b[43m)\u001b[49m)\n\u001b[1;32m      5\u001b[0m clinique_data \u001b[38;5;241m=\u001b[39m pd\u001b[38;5;241m.\u001b[39mDataFrame(all_perfume_data)\n\u001b[1;32m      6\u001b[0m clinique_data_final \u001b[38;5;241m=\u001b[39m clinique_data\u001b[38;5;241m.\u001b[39mdropna()\n",
      "Cell \u001b[0;32mIn[71], line 2\u001b[0m, in \u001b[0;36mcreate_perfume_data\u001b[0;34m(url)\u001b[0m\n\u001b[1;32m      1\u001b[0m \u001b[38;5;28;01mdef\u001b[39;00m \u001b[38;5;21mcreate_perfume_data\u001b[39m(url):\n\u001b[0;32m----> 2\u001b[0m     page1 \u001b[38;5;241m=\u001b[39m \u001b[43mget_soup\u001b[49m\u001b[43m(\u001b[49m\u001b[43murl\u001b[49m\u001b[43m)\u001b[49m\n\u001b[1;32m      3\u001b[0m     perfume_rating \u001b[38;5;241m=\u001b[39m find_perfume_rating(page1)\n\u001b[1;32m      4\u001b[0m     total_rating \u001b[38;5;241m=\u001b[39m find_total_rating(page1)\n",
      "Cell \u001b[0;32mIn[72], line 10\u001b[0m, in \u001b[0;36mget_soup\u001b[0;34m(url1)\u001b[0m\n\u001b[1;32m      8\u001b[0m \u001b[38;5;66;03m# page = requests.get(url, headers=agent)\u001b[39;00m\n\u001b[1;32m      9\u001b[0m user_agent \u001b[38;5;241m=\u001b[39m {\u001b[38;5;124m'\u001b[39m\u001b[38;5;124mUser-agent\u001b[39m\u001b[38;5;124m'\u001b[39m: \u001b[38;5;124m'\u001b[39m\u001b[38;5;124mMozilla/5.0\u001b[39m\u001b[38;5;124m'\u001b[39m}\n\u001b[0;32m---> 10\u001b[0m response  \u001b[38;5;241m=\u001b[39m \u001b[43mrequests\u001b[49m\u001b[38;5;241;43m.\u001b[39;49m\u001b[43mget\u001b[49m\u001b[43m(\u001b[49m\u001b[43mtemp_url\u001b[49m\u001b[43m,\u001b[49m\u001b[43m \u001b[49m\u001b[43mheaders\u001b[49m\u001b[43m \u001b[49m\u001b[38;5;241;43m=\u001b[39;49m\u001b[43m \u001b[49m\u001b[43magent\u001b[49m\u001b[43m)\u001b[49m\n\u001b[1;32m     11\u001b[0m soup \u001b[38;5;241m=\u001b[39m bs(response\u001b[38;5;241m.\u001b[39mcontent, \u001b[38;5;124m'\u001b[39m\u001b[38;5;124mhtml\u001b[39m\u001b[38;5;124m'\u001b[39m)\n\u001b[1;32m     12\u001b[0m \u001b[38;5;28;01mreturn\u001b[39;00m(soup)\n",
      "File \u001b[0;32m/Library/Frameworks/Python.framework/Versions/3.10/lib/python3.10/site-packages/requests/api.py:73\u001b[0m, in \u001b[0;36mget\u001b[0;34m(url, params, **kwargs)\u001b[0m\n\u001b[1;32m     62\u001b[0m \u001b[38;5;28;01mdef\u001b[39;00m \u001b[38;5;21mget\u001b[39m(url, params\u001b[38;5;241m=\u001b[39m\u001b[38;5;28;01mNone\u001b[39;00m, \u001b[38;5;241m*\u001b[39m\u001b[38;5;241m*\u001b[39mkwargs):\n\u001b[1;32m     63\u001b[0m \u001b[38;5;250m    \u001b[39m\u001b[38;5;124mr\u001b[39m\u001b[38;5;124;03m\"\"\"Sends a GET request.\u001b[39;00m\n\u001b[1;32m     64\u001b[0m \n\u001b[1;32m     65\u001b[0m \u001b[38;5;124;03m    :param url: URL for the new :class:`Request` object.\u001b[39;00m\n\u001b[0;32m   (...)\u001b[0m\n\u001b[1;32m     70\u001b[0m \u001b[38;5;124;03m    :rtype: requests.Response\u001b[39;00m\n\u001b[1;32m     71\u001b[0m \u001b[38;5;124;03m    \"\"\"\u001b[39;00m\n\u001b[0;32m---> 73\u001b[0m     \u001b[38;5;28;01mreturn\u001b[39;00m \u001b[43mrequest\u001b[49m\u001b[43m(\u001b[49m\u001b[38;5;124;43m\"\u001b[39;49m\u001b[38;5;124;43mget\u001b[39;49m\u001b[38;5;124;43m\"\u001b[39;49m\u001b[43m,\u001b[49m\u001b[43m \u001b[49m\u001b[43murl\u001b[49m\u001b[43m,\u001b[49m\u001b[43m \u001b[49m\u001b[43mparams\u001b[49m\u001b[38;5;241;43m=\u001b[39;49m\u001b[43mparams\u001b[49m\u001b[43m,\u001b[49m\u001b[43m \u001b[49m\u001b[38;5;241;43m*\u001b[39;49m\u001b[38;5;241;43m*\u001b[39;49m\u001b[43mkwargs\u001b[49m\u001b[43m)\u001b[49m\n",
      "File \u001b[0;32m/Library/Frameworks/Python.framework/Versions/3.10/lib/python3.10/site-packages/requests/api.py:59\u001b[0m, in \u001b[0;36mrequest\u001b[0;34m(method, url, **kwargs)\u001b[0m\n\u001b[1;32m     55\u001b[0m \u001b[38;5;66;03m# By using the 'with' statement we are sure the session is closed, thus we\u001b[39;00m\n\u001b[1;32m     56\u001b[0m \u001b[38;5;66;03m# avoid leaving sockets open which can trigger a ResourceWarning in some\u001b[39;00m\n\u001b[1;32m     57\u001b[0m \u001b[38;5;66;03m# cases, and look like a memory leak in others.\u001b[39;00m\n\u001b[1;32m     58\u001b[0m \u001b[38;5;28;01mwith\u001b[39;00m sessions\u001b[38;5;241m.\u001b[39mSession() \u001b[38;5;28;01mas\u001b[39;00m session:\n\u001b[0;32m---> 59\u001b[0m     \u001b[38;5;28;01mreturn\u001b[39;00m \u001b[43msession\u001b[49m\u001b[38;5;241;43m.\u001b[39;49m\u001b[43mrequest\u001b[49m\u001b[43m(\u001b[49m\u001b[43mmethod\u001b[49m\u001b[38;5;241;43m=\u001b[39;49m\u001b[43mmethod\u001b[49m\u001b[43m,\u001b[49m\u001b[43m \u001b[49m\u001b[43murl\u001b[49m\u001b[38;5;241;43m=\u001b[39;49m\u001b[43murl\u001b[49m\u001b[43m,\u001b[49m\u001b[43m \u001b[49m\u001b[38;5;241;43m*\u001b[39;49m\u001b[38;5;241;43m*\u001b[39;49m\u001b[43mkwargs\u001b[49m\u001b[43m)\u001b[49m\n",
      "File \u001b[0;32m/Library/Frameworks/Python.framework/Versions/3.10/lib/python3.10/site-packages/requests/sessions.py:589\u001b[0m, in \u001b[0;36mSession.request\u001b[0;34m(self, method, url, params, data, headers, cookies, files, auth, timeout, allow_redirects, proxies, hooks, stream, verify, cert, json)\u001b[0m\n\u001b[1;32m    584\u001b[0m send_kwargs \u001b[38;5;241m=\u001b[39m {\n\u001b[1;32m    585\u001b[0m     \u001b[38;5;124m\"\u001b[39m\u001b[38;5;124mtimeout\u001b[39m\u001b[38;5;124m\"\u001b[39m: timeout,\n\u001b[1;32m    586\u001b[0m     \u001b[38;5;124m\"\u001b[39m\u001b[38;5;124mallow_redirects\u001b[39m\u001b[38;5;124m\"\u001b[39m: allow_redirects,\n\u001b[1;32m    587\u001b[0m }\n\u001b[1;32m    588\u001b[0m send_kwargs\u001b[38;5;241m.\u001b[39mupdate(settings)\n\u001b[0;32m--> 589\u001b[0m resp \u001b[38;5;241m=\u001b[39m \u001b[38;5;28;43mself\u001b[39;49m\u001b[38;5;241;43m.\u001b[39;49m\u001b[43msend\u001b[49m\u001b[43m(\u001b[49m\u001b[43mprep\u001b[49m\u001b[43m,\u001b[49m\u001b[43m \u001b[49m\u001b[38;5;241;43m*\u001b[39;49m\u001b[38;5;241;43m*\u001b[39;49m\u001b[43msend_kwargs\u001b[49m\u001b[43m)\u001b[49m\n\u001b[1;32m    591\u001b[0m \u001b[38;5;28;01mreturn\u001b[39;00m resp\n",
      "File \u001b[0;32m/Library/Frameworks/Python.framework/Versions/3.10/lib/python3.10/site-packages/requests/sessions.py:703\u001b[0m, in \u001b[0;36mSession.send\u001b[0;34m(self, request, **kwargs)\u001b[0m\n\u001b[1;32m    700\u001b[0m start \u001b[38;5;241m=\u001b[39m preferred_clock()\n\u001b[1;32m    702\u001b[0m \u001b[38;5;66;03m# Send the request\u001b[39;00m\n\u001b[0;32m--> 703\u001b[0m r \u001b[38;5;241m=\u001b[39m \u001b[43madapter\u001b[49m\u001b[38;5;241;43m.\u001b[39;49m\u001b[43msend\u001b[49m\u001b[43m(\u001b[49m\u001b[43mrequest\u001b[49m\u001b[43m,\u001b[49m\u001b[43m \u001b[49m\u001b[38;5;241;43m*\u001b[39;49m\u001b[38;5;241;43m*\u001b[39;49m\u001b[43mkwargs\u001b[49m\u001b[43m)\u001b[49m\n\u001b[1;32m    705\u001b[0m \u001b[38;5;66;03m# Total elapsed time of the request (approximately)\u001b[39;00m\n\u001b[1;32m    706\u001b[0m elapsed \u001b[38;5;241m=\u001b[39m preferred_clock() \u001b[38;5;241m-\u001b[39m start\n",
      "File \u001b[0;32m/Library/Frameworks/Python.framework/Versions/3.10/lib/python3.10/site-packages/requests/adapters.py:501\u001b[0m, in \u001b[0;36mHTTPAdapter.send\u001b[0;34m(self, request, stream, timeout, verify, cert, proxies)\u001b[0m\n\u001b[1;32m    486\u001b[0m     resp \u001b[38;5;241m=\u001b[39m conn\u001b[38;5;241m.\u001b[39murlopen(\n\u001b[1;32m    487\u001b[0m         method\u001b[38;5;241m=\u001b[39mrequest\u001b[38;5;241m.\u001b[39mmethod,\n\u001b[1;32m    488\u001b[0m         url\u001b[38;5;241m=\u001b[39murl,\n\u001b[0;32m   (...)\u001b[0m\n\u001b[1;32m    497\u001b[0m         chunked\u001b[38;5;241m=\u001b[39mchunked,\n\u001b[1;32m    498\u001b[0m     )\n\u001b[1;32m    500\u001b[0m \u001b[38;5;28;01mexcept\u001b[39;00m (ProtocolError, \u001b[38;5;167;01mOSError\u001b[39;00m) \u001b[38;5;28;01mas\u001b[39;00m err:\n\u001b[0;32m--> 501\u001b[0m     \u001b[38;5;28;01mraise\u001b[39;00m \u001b[38;5;167;01mConnectionError\u001b[39;00m(err, request\u001b[38;5;241m=\u001b[39mrequest)\n\u001b[1;32m    503\u001b[0m \u001b[38;5;28;01mexcept\u001b[39;00m MaxRetryError \u001b[38;5;28;01mas\u001b[39;00m e:\n\u001b[1;32m    504\u001b[0m     \u001b[38;5;28;01mif\u001b[39;00m \u001b[38;5;28misinstance\u001b[39m(e\u001b[38;5;241m.\u001b[39mreason, ConnectTimeoutError):\n\u001b[1;32m    505\u001b[0m         \u001b[38;5;66;03m# TODO: Remove this in 3.0.0: see #2811\u001b[39;00m\n",
      "\u001b[0;31mConnectionError\u001b[0m: ('Connection aborted.', RemoteDisconnected('Remote end closed connection without response'))"
     ]
    }
   ],
   "source": [
    "all_perfume_data = []\n",
    "for i in clinique_perfumes:\n",
    "    time.sleep(5) # sleep for 5 seconds\n",
    "    all_perfume_data.append(create_perfume_data(i))\n",
    "clinique_data = pd.DataFrame(all_perfume_data)\n",
    "clinique_data_final = clinique_data.dropna()"
   ]
  },
  {
   "cell_type": "code",
   "execution_count": 75,
   "id": "dbb6369c",
   "metadata": {},
   "outputs": [],
   "source": [
    "clinique_data = pd.DataFrame(all_perfume_data)\n",
    "clinique_data_final = clinique_data.dropna()"
   ]
  },
  {
   "cell_type": "code",
   "execution_count": 77,
   "id": "324ba1bf",
   "metadata": {},
   "outputs": [],
   "source": [
    "clinique_data_final.to_csv(\"/Users/architagarwal21/Desktop/NW-AI/clinique_data.csv\")"
   ]
  },
  {
   "cell_type": "markdown",
   "id": "5098c085",
   "metadata": {},
   "source": [
    "Estee Lauder Perfumes"
   ]
  },
  {
   "cell_type": "code",
   "execution_count": 42,
   "id": "b586f8ec",
   "metadata": {},
   "outputs": [],
   "source": [
    "url_estee = 'https://www.fragrantica.com/designers/Estee-Lauder.html'\n",
    "estee_soup = get_soup(url_estee)\n",
    "all_perfumes = estee_soup.find_all('div', class_=\"flex-child-auto\")\n",
    "hrefs = [a for a in estee_soup.find_all('a', href=True)]\n",
    "hrefs = hrefs[44+14:]"
   ]
  },
  {
   "cell_type": "code",
   "execution_count": 43,
   "id": "5388374c",
   "metadata": {},
   "outputs": [],
   "source": [
    "### Mine all the relevant links\n",
    "list1 =  []\n",
    "for i in hrefs: \n",
    "    list1.append(((i.text.strip()), parent_link + i['href']))\n",
    "all_frag_links = pd.DataFrame(list1)\n",
    "all_frag_links1 = all_frag_links.drop([50,51,52,68], axis=0)[:155]\n",
    "all_frag_links1.columns = ['Perfume', 'site']\n",
    "estee_perfumes = all_frag_links1['site'][:50].tolist()"
   ]
  },
  {
   "cell_type": "code",
   "execution_count": 51,
   "id": "e88acb5f",
   "metadata": {
    "scrolled": true
   },
   "outputs": [],
   "source": [
    "all_perfume_data = []\n",
    "for i in estee_perfumes:\n",
    "    time.sleep(4)\n",
    "    all_perfume_data.append(create_perfume_data(i))\n",
    "estee_data = pd.DataFrame(all_perfume_data)\n",
    "# estee_data_final = estee_data.dropna()"
   ]
  },
  {
   "cell_type": "code",
   "execution_count": 47,
   "id": "2152e2c7",
   "metadata": {},
   "outputs": [],
   "source": [
    "estee_data = pd.DataFrame(all_perfume_data)"
   ]
  },
  {
   "cell_type": "code",
   "execution_count": 50,
   "id": "6c45aed6",
   "metadata": {},
   "outputs": [],
   "source": [
    "estee_data = estee_data.dropna()"
   ]
  },
  {
   "cell_type": "code",
   "execution_count": 54,
   "id": "3822c0d4",
   "metadata": {},
   "outputs": [],
   "source": [
    "# estee_data.to_csv(\"/Users/architagarwal21/Desktop/NW-AI/estee_data.csv\")"
   ]
  },
  {
   "cell_type": "markdown",
   "id": "294f95c0",
   "metadata": {},
   "source": [
    "**Burberry Data**"
   ]
  },
  {
   "cell_type": "code",
   "execution_count": 93,
   "id": "8a016764",
   "metadata": {},
   "outputs": [],
   "source": [
    "url_burberry = 'https://www.fragrantica.com/designers/Burberry.html'\n",
    "bur_perfumes = find_hrefs(url_burberry)"
   ]
  },
  {
   "cell_type": "code",
   "execution_count": 96,
   "id": "1100e1e7",
   "metadata": {
    "scrolled": true
   },
   "outputs": [
    {
     "name": "stdout",
     "output_type": "stream",
     "text": [
      "Burberry Summer for Men Burberry for men Completed\n",
      "Burberry Summer for Men 2010 Burberry for men Completed\n",
      "Burberry Summer for Men 2011 Burberry for men Completed\n",
      "Burberry Summer for Men 2013 Burberry for men Completed\n",
      "Burberry Summer for Women 2010 Burberry for women Completed\n",
      "Burberry Summer for Women 2011 Burberry for women Completed\n",
      "Burberry Summer for Women 2013 Burberry for women Completed\n",
      "Burberry Summer Men 2009 Burberry for men Completed\n",
      "Burberry Summer Women 2009 Burberry for women Completed\n",
      "Burberry Women Burberry for women Completed\n",
      "None Completed\n",
      "Goddess Burberry for women Completed\n",
      "Body Burberry for women Completed\n",
      "Body Crystal Baccarat Burberry for women Completed\n",
      "Body Eau de Parfum Intense Burberry for women Completed\n",
      "Body Eau de Toilette Burberry for women Completed\n",
      "Body Tender Burberry for women Completed\n",
      "Burberry Body Gold Limited Edition Burberry for women Completed\n",
      "Burberry Body Rose Gold Burberry for women Completed\n",
      "Brit Rhythm for Her Floral Burberry for women Completed\n",
      "Brit Rhythm for Him Intense Burberry for men Completed\n",
      "None Completed\n",
      "None Completed\n",
      "None Completed\n",
      "None Completed\n",
      "None Completed\n",
      "None Completed\n",
      "None Completed\n",
      "None Completed\n",
      "None Completed\n",
      "Burberry Brit Rhythm Burberry for men Completed\n",
      "Burberry Brit Rhythm for Women Burberry for women Completed\n",
      "Burberry Brit Sheer Burberry for women Completed\n",
      "Burberry Brit Sheer (2015) Burberry for women Completed\n",
      "Burberry Brit Splash for Men Burberry for men Completed\n",
      "Burberry Brit Summer for Men Burberry for men Completed\n",
      "Burberry Brit Summer for Women Burberry for women Completed\n",
      "Amber Heath Burberry for women and men Completed\n",
      "Antique Oak Burberry for women and men Completed\n",
      "Clary Sage Burberry for women and men Completed\n",
      "None Completed\n",
      "None Completed\n",
      "High Tide Burberry for women and men Completed\n",
      "Midnight Journey Burberry for women and men Completed\n",
      "Tudor Rose Burberry for women and men Completed\n",
      "Wild Thistle Burberry for women and men Completed\n",
      "Burberry Her Burberry for women Completed\n",
      "Burberry Her Blossom Burberry for women Completed\n",
      "Burberry Her Eau de Toilette Burberry for women Completed\n",
      "Burberry Her Elixir de Parfum Burberry for women Completed\n"
     ]
    }
   ],
   "source": [
    "all_perfume_data = []\n",
    "for i in bur_perfumes:\n",
    "    time.sleep(4)\n",
    "    all_perfume_data.append(create_perfume_data(i))"
   ]
  },
  {
   "cell_type": "code",
   "execution_count": 98,
   "id": "4b87fe10",
   "metadata": {},
   "outputs": [],
   "source": [
    "bur_data = pd.DataFrame(all_perfume_data)\n",
    "bur_data = bur_data.dropna()"
   ]
  },
  {
   "cell_type": "code",
   "execution_count": 102,
   "id": "af7f0ff6",
   "metadata": {},
   "outputs": [],
   "source": [
    "bur_data.to_csv(\"/Users/architagarwal21/Desktop/NW-AI/bur_data.csv\")"
   ]
  },
  {
   "cell_type": "markdown",
   "id": "de78bd28",
   "metadata": {},
   "source": [
    "**https://www.fragrantica.com/designers/Chanel.html**"
   ]
  },
  {
   "cell_type": "code",
   "execution_count": 103,
   "id": "81f1cd0e",
   "metadata": {},
   "outputs": [],
   "source": [
    "url_chanel = 'https://www.fragrantica.com/designers/Chanel.html'\n",
    "chanel_perfumes = find_hrefs(url_chanel)"
   ]
  },
  {
   "cell_type": "code",
   "execution_count": 106,
   "id": "23543c00",
   "metadata": {
    "scrolled": true
   },
   "outputs": [
    {
     "name": "stdout",
     "output_type": "stream",
     "text": [
      "Chanel No 46 Chanel for women Completed\n",
      "Cuir de Russie Parfum Chanel for women and men Completed\n",
      "Le 1940 Beige de Chanel Chanel for women Completed\n",
      "Le 1940 Bleu de Chanel Chanel for women Completed\n",
      "Le 1940 Rouge de Chanel Chanel for women Completed\n",
      "Une Fleur de Chanel Chanel for women Completed\n",
      "Allure Chanel for women Completed\n",
      "Allure Eau de Parfum Chanel for women Completed\n",
      "Allure Eau Fraichissante Pour l'Ete Chanel for men Completed\n",
      "Allure Hair Mist Chanel for women Completed\n",
      "None Completed\n",
      "None Completed\n",
      "None Completed\n",
      "None Completed\n",
      "Allure Homme Sport Chanel for men Completed\n",
      "Allure Homme Sport Cologne Chanel for men Completed\n",
      "Allure Homme Sport Eau Extreme Chanel for men Completed\n",
      "Allure Parfum Chanel for women Completed\n",
      "Allure Sensuelle Chanel for women Completed\n",
      "Allure Sensuelle Eau de Toilette Chanel for women Completed\n",
      "Allure Sensuelle Parfum Chanel for women Completed\n",
      "Bleu de Chanel Chanel for men Completed\n",
      "Bleu de Chanel All-Over Spray Chanel for men Completed\n",
      "Bleu de Chanel Eau de Parfum Chanel for men Completed\n",
      "None Completed\n",
      "None Completed\n",
      "Chance Eau de Toilette Chanel for women Completed\n",
      "Chance Eau Fraiche Chanel for women Completed\n",
      "Chance Eau Fraiche Eau de Parfum Chanel for women Completed\n",
      "Chance Eau Fraiche Hair Mist Chanel for women Completed\n",
      "Chance Eau Tendre Chanel for women Completed\n",
      "Chance Eau Tendre Eau de Parfum Chanel for women Completed\n",
      "Chance Eau Tendre Hair Mist Chanel for women Completed\n",
      "Chance Eau Vive Chanel for women Completed\n",
      "Chance Eau Vive Hair Mist Chanel for women Completed\n",
      "Chance Hair Mist Chanel for women Completed\n",
      "None Completed\n",
      "Chanel N°19 Chanel for women Completed\n",
      "Chanel N°19 Eau de Toilette (2023) Chanel for women Completed\n",
      "Chanel No 19 Eau de Parfum Chanel for women Completed\n",
      "Chanel No 19 Parfum Chanel for women Completed\n",
      "Chanel No 19 Poudre Chanel for women Completed\n",
      "Chanel N°5 (Vintage) Chanel for women Completed\n",
      "Chanel N°5 Eau Premiere Chanel for women Completed\n",
      "Chanel N°5 Elixir Sensuel Chanel for women Completed\n",
      "Chanel No 5 Eau de Cologne Chanel for women Completed\n",
      "Chanel No 5 Eau de Parfum Chanel for women Completed\n",
      "None Completed\n",
      "Chanel No 5 Eau de Parfum Red Edition Chanel for women Completed\n",
      "Chanel No 5 Eau de Toilette Chanel for women Completed\n"
     ]
    }
   ],
   "source": [
    "all_perfume_data = []\n",
    "for i in chanel_perfumes[0]:\n",
    "    time.sleep(4)\n",
    "    all_perfume_data.append(create_perfume_data(i))"
   ]
  },
  {
   "cell_type": "code",
   "execution_count": 107,
   "id": "c2d40b69",
   "metadata": {},
   "outputs": [],
   "source": [
    "chanel_data = pd.DataFrame(all_perfume_data)\n",
    "chanel_data = chanel_data.dropna()"
   ]
  },
  {
   "cell_type": "code",
   "execution_count": 108,
   "id": "30bbe64b",
   "metadata": {},
   "outputs": [],
   "source": [
    "chanel_data.to_csv(\"/Users/architagarwal21/Desktop/NW-AI/chanel_data.csv\")"
   ]
  },
  {
   "cell_type": "code",
   "execution_count": 151,
   "id": "55b783ee",
   "metadata": {},
   "outputs": [],
   "source": [
    "column_names = ['Perfume Rating','Perfume Best Rating','Perfume Rating Count','Brand','Scent group',\n",
    "                      'Perfume Name','Perfume Description','Top Notes','User Reviews']"
   ]
  },
  {
   "cell_type": "code",
   "execution_count": 152,
   "id": "2b69ea3a",
   "metadata": {},
   "outputs": [],
   "source": [
    "estee_data = pd.read_csv(\"/Users/architagarwal21/Desktop/NW-AI/estee_data.csv\",index_col=0, header=None, names=column_names)\n",
    "chanel_data = pd.read_csv(\"/Users/architagarwal21/Desktop/NW-AI/chanel_data.csv\",index_col=0, header=None, names=column_names)\n",
    "bur_data = pd.read_csv(\"/Users/architagarwal21/Desktop/NW-AI/bur_data.csv\",index_col=0, header=None, names=column_names)\n",
    "clinique_data = pd.read_csv(\"/Users/architagarwal21/Desktop/NW-AI/clinique_data.csv\",index_col=0, header=None, names=column_names)"
   ]
  },
  {
   "cell_type": "code",
   "execution_count": 156,
   "id": "bcc526be",
   "metadata": {},
   "outputs": [],
   "source": [
    "final_data = pd.concat([estee_data,chanel_data,bur_data,clinique_data]).dropna()"
   ]
  },
  {
   "cell_type": "code",
   "execution_count": 159,
   "id": "7b091ee6",
   "metadata": {},
   "outputs": [],
   "source": [
    "final_data.to_csv(\"/Users/architagarwal21/Desktop/NW-AI/brand4_data.csv\")"
   ]
  },
  {
   "cell_type": "code",
   "execution_count": null,
   "id": "89b20dfd",
   "metadata": {},
   "outputs": [],
   "source": []
  }
 ],
 "metadata": {
  "kernelspec": {
   "display_name": "Python 3 (ipykernel)",
   "language": "python",
   "name": "python3"
  },
  "language_info": {
   "codemirror_mode": {
    "name": "ipython",
    "version": 3
   },
   "file_extension": ".py",
   "mimetype": "text/x-python",
   "name": "python",
   "nbconvert_exporter": "python",
   "pygments_lexer": "ipython3",
   "version": "3.10.11"
  }
 },
 "nbformat": 4,
 "nbformat_minor": 5
}
